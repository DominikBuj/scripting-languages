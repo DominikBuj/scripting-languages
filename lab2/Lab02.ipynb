{
 "cells": [
  {
   "attachments": {},
   "cell_type": "markdown",
   "metadata": {},
   "source": [
    "# Programowanie w Językach Skryptowych (Laboratorium 2)\n",
    "\n",
    "## Jednolinijkowce\n",
    "\n",
    "Charakterystyczną cechą każdego programisty-Pythonowca jest umiejętność pisania\n",
    "efektywnych wyrażeń jednolinijkowych (ang. *one-liners*). Są to fragmenty kodu realizujące nieraz\n",
    "zaskakująco złożone operacje przy użyciu jednej linii kodu.\n",
    "Konstrukcjami Pythona często wykorzystywanymi w 1-linijkowcach są:\n",
    "* wytwornik listy (ang. *list comprehension*),\n",
    "* albo analogiczny wytwornik zbioru lub słownika,\n",
    "* obiekty `range`,\n",
    "* funkcje `all`, `any`,\n",
    "* funkcje matematyczne: `sum`, `min`, `max`,\n",
    "* metody klasy `string`: `split`, `join`,\n",
    "* konwersje liczba/string lub vice versa (`str(...)`, `int(...)`, `float(...)`).\n",
    "\n",
    "W poniższych zadaniach chodzi o napisanie 1-linijkowego ciała funkcji o podanym nagłówku.\n",
    "Ciało funkcji jest zawsze postaci: `return [wyrażenie]`. Dodatkowo, proszę napisać 2 lub 3 (wg\n",
    "polecenia) asercje testujące poprawność napisanej funkcji.\n",
    "\n",
    "**Uwagi**:\n",
    "1. Zakładamy poprawność przekazywanych danych (czyli jeśli np. funkcja działa na stringu\n",
    "danej postaci, to zakładamy, że przekazany argument rzeczywiście jest typu `str` i ma\n",
    "wymaganą postać).\n",
    "2. W żadnym zadaniu nie jest potrzebny import jakiegokolwiek modułu. Oznacza to w\n",
    "szczególności, że **NIE używamy wyrażeń regularnych**.\n",
    "\n",
    "### Zadania:\n",
    "\n",
    "1. Napisz funkcję,\n",
    "która jako `s` przyjmuje zdanie i zwraca to zdanie z gwiazdkami w miejsce spacji. Jeśli między\n",
    "daną parą słów były np. 3 spacje, to będą też 3 gwiazdki."
   ]
  },
  {
   "cell_type": "code",
   "execution_count": 88,
   "metadata": {},
   "outputs": [],
   "source": [
    "def one_sentence_with_stars(s):\n",
    "    return s.replace(' ', '*')\n",
    "\n",
    "# Test\n",
    "assert one_sentence_with_stars(\"Sentence_with_underscores\") == \"Sentence_with_underscores\"\n",
    "assert one_sentence_with_stars(\"A  normal sentence.\") == \"A**normal*sentence.\""
   ]
  },
  {
   "attachments": {},
   "cell_type": "markdown",
   "metadata": {},
   "source": [
    "2. Napisz funkcję,\n",
    "która jako `s` przyjmuje zdanie i zwraca to zdanie z pojedynczymi gwiazdkami w miejsce ciągu\n",
    "spacji."
   ]
  },
  {
   "cell_type": "code",
   "execution_count": 89,
   "metadata": {},
   "outputs": [],
   "source": [
    "def two_sentence_with_stars2(s):\n",
    "    return ' '.join(s.split()).replace(' ', '*')\n",
    "    \n",
    "    \n",
    "# Test\n",
    "assert two_sentence_with_stars2(\"Sentence_with_underscores\") == \"Sentence_with_underscores\"\n",
    "assert two_sentence_with_stars2(\"A        normal sentence.\") == \"A*normal*sentence.\""
   ]
  },
  {
   "attachments": {},
   "cell_type": "markdown",
   "metadata": {},
   "source": [
    "\n",
    "3. Napisz funkcję,\n",
    "która przyjmuje zmienną `s` postaci:\n",
    "```python\n",
    "\"\"\"50 abc 1.5 5\n",
    "-12 def 2.75 1\n",
    "35 gh 3 2\n",
    "1000 ijkl -4.35 33\"\"\"\n",
    "``` \n",
    "i zwraca sumę PRZEDOSTATNIEJ kolumny. W tym przypadku wynik dodawania 1.5+2.75+3+(-\n",
    "4.35).\n",
    "Liczba linii w `s` : dowolna, ale co najmniej jedna. Liczba kolumn w `s`: dowolna, ale co najmniej\n",
    "dwie.\n",
    "Asercje napisz samodzielnie (jedną: dla danych powyższych i jedną przy innej liczbie wierszy i\n",
    "kolumn).\n"
   ]
  },
  {
   "cell_type": "code",
   "execution_count": 90,
   "metadata": {},
   "outputs": [],
   "source": [
    "def three_sum_middle_column(s):\n",
    "    return round(sum([float(line.split()[-2]) for line in s.splitlines()]), 2)\n",
    "\n",
    "mock_default_case = \\\n",
    "\"\"\"50 abc 1.5 5\n",
    "-12 def 2.75 1\n",
    "35 gh 3 2\n",
    "1000 ijkl -4.35 33\"\"\"\n",
    "mock_mine_case = \\\n",
    "\"\"\"1 20 d\n",
    "2 -5 cc\n",
    "3 5 bbb\n",
    "4 1 aaaa\"\"\"\n",
    "\n",
    "assert three_sum_middle_column(mock_default_case) == 2.9\n",
    "assert three_sum_middle_column(mock_mine_case) == 21"
   ]
  },
  {
   "attachments": {},
   "cell_type": "markdown",
   "metadata": {},
   "source": [
    "\n",
    "4. Napisz funkcję,\n",
    "która przyjmuje liczbę całkowitą `n` i zwraca liczbę UNIKALNYCH cyfr w `n` (1 lub więcej).\n",
    "Asercje (trzy): napisz samodzielnie.\n"
   ]
  },
  {
   "cell_type": "code",
   "execution_count": 91,
   "metadata": {},
   "outputs": [],
   "source": [
    "def four_count_unique_digits(n):\n",
    "    return len(set(int(digit) for digit in str(n)))\n",
    "\n",
    "assert four_count_unique_digits(123) == 3\n",
    "assert four_count_unique_digits(123123123) == 3\n",
    "assert four_count_unique_digits(111111122222) == 2"
   ]
  },
  {
   "attachments": {},
   "cell_type": "markdown",
   "metadata": {},
   "source": [
    "\n",
    "5. Napisz funkcję,\n",
    "która zwraca listę dodatnich dzielników właściwych liczby `n` (właściwych, tj. mniejszych od `n`).\n",
    "Napisz dwie asercje.\n"
   ]
  },
  {
   "cell_type": "code",
   "execution_count": 92,
   "metadata": {},
   "outputs": [],
   "source": [
    "def five_divisors(n):\n",
    "    return len([divider for divider in range(1, n) if n % divider == 0])\n",
    "\n",
    "assert five_divisors(1) == 0\n",
    "assert five_divisors(21) == 3"
   ]
  },
  {
   "attachments": {},
   "cell_type": "markdown",
   "metadata": {},
   "source": [
    "\n",
    "6. Napisz funkcję,\n",
    "która zwraca listę zbiorów będących częściami wspólnymi pierwszego z argumentów z\n",
    "każdym pozostałym argumentem. Zakładamy, że wywołanie funkcji posiada co najmniej\n",
    "jeden argument.\n",
    "Asercje do sprawdzenia:\n",
    "```python\n",
    ">>> six_intersection(set([1, 2, 3]), set([3, 5]), set([2, 1, 10]), set([4, 10]))\n",
    "[{3}, {1, 2}, set()]\n",
    ">>> six_intersection(set([1, 2, 3]))\n",
    "[]\n",
    "```\n"
   ]
  },
  {
   "cell_type": "code",
   "execution_count": 93,
   "metadata": {},
   "outputs": [],
   "source": [
    "def six_intersections(*sets):\n",
    "    return [sets[0].intersection(sets[i]) for i in range(1, len(sets))]\n",
    "\n",
    "assert six_intersections(set([1, 2, 3]), set([3, 5]), set([2, 1, 10]), set([4, 10])) == \\\n",
    "    [{3}, {1, 2}, set()]\n",
    "assert six_intersections(set([1, 2, 3])) == []"
   ]
  },
  {
   "attachments": {},
   "cell_type": "markdown",
   "metadata": {},
   "source": [
    "\n",
    "7. Napisz funkcję,\n",
    "która zwraca listę elementów `li` (zakładamy, że są na niej tylko liczby całkowite) podzielnych\n",
    "przez 3, ale nie dzielących się przez 5; co więcej, elementy te mają być na liście wyjściowej w\n",
    "odwrotnej kolejności niż na `li`.\n",
    "Napisz trzy asercje.\n"
   ]
  },
  {
   "cell_type": "code",
   "execution_count": 94,
   "metadata": {},
   "outputs": [],
   "source": [
    "def seven_easy(li):\n",
    "    return [number for number in li[::-1] if number % 3 == 0 and number % 5 != 0]\n",
    "\n",
    "assert seven_easy([3, 5, 6]) == [6, 3]\n",
    "assert seven_easy([4, 7, 10]) == []\n",
    "assert seven_easy([30, 60, 90, 21]) == [21]"
   ]
  },
  {
   "attachments": {},
   "cell_type": "markdown",
   "metadata": {},
   "source": [
    "8. Napisz funkcję, która zwraca `True`, jeśli wszystkie elementy przekazanego zbioru `set_` są parzyste oraz `False` w przeciwnym przypadku. Napisz dwie asercje."
   ]
  },
  {
   "cell_type": "code",
   "execution_count": 95,
   "metadata": {},
   "outputs": [],
   "source": [
    "def eleven_even(set_):\n",
    "    return all(number % 2 == 0 for number in set_)\n",
    "\n",
    "assert eleven_even([2, 4, 6, 8, 24]) == True\n",
    "assert eleven_even([1, 2, 16]) == False"
   ]
  },
  {
   "attachments": {},
   "cell_type": "markdown",
   "metadata": {},
   "source": [
    "\n",
    "## Numpy\n",
    "\n",
    "Przydatne linki:\n",
    "- Dokumentacja: https://numpy.org/doc/stable/\n",
    "\n",
    "### Zadania\n",
    "\n",
    "1. Rozwiąż układ równań:\n",
    "\n",
    "$$\n",
    "\\begin{eqnarray*}\n",
    "-2x & + &  y & + & 6z & = & 5    \\\\\n",
    "  x & - & 2y & - & z  & = & -7.5 \\\\\n",
    " 4x & + &  y & + & 2z & = & 9\n",
    "\\end{eqnarray*}\n",
    "$$\n"
   ]
  },
  {
   "cell_type": "code",
   "execution_count": 96,
   "metadata": {},
   "outputs": [
    {
     "name": "stdout",
     "output_type": "stream",
     "text": [
      "x = 1.0\n",
      "y = 4.0\n",
      "z = 0.5\n"
     ]
    }
   ],
   "source": [
    "# -2x + y + 6z = 5\n",
    "# x - 2y - z = -7.5\n",
    "# 4x + y + 2z = 9\n",
    "\n",
    "import numpy as np\n",
    "\n",
    "a = [\n",
    "    [-2, 1, 6],\n",
    "    [1, -2, -1],\n",
    "    [4, 1, 2]\n",
    "]\n",
    "b = [5, -7.5, 9]\n",
    "\n",
    "x, y, z = np.linalg.solve(a, b)\n",
    "print(f'x = {x}\\ny = {y}\\nz = {z}')"
   ]
  },
  {
   "attachments": {},
   "cell_type": "markdown",
   "metadata": {},
   "source": [
    "\n",
    "2. Utwórz 2 macierze ($A$ i $B$) 10x10: w jednej wartości rosną od 1 do 100 kolumnami, w\n",
    "drugiej maleją od 100 do 1 wierszami. Następnie utwórz trzecią macierz ($C$) będącą sumą\n",
    "dwóch wcześniejszych (tj. każdy element jest sumą dwóch odpowiednich elementów).\n",
    "Zastąp ostatni element w drugim wierszu macierzy $C$ jego podwojoną wartością.\n",
    "Wypisz medianę $C$ oraz rozrzut (różnicę między max i min) wartości w poszczególnych\n",
    "kolumnach i poszczególnych wierszach $C$.\n"
   ]
  },
  {
   "cell_type": "code",
   "execution_count": 97,
   "metadata": {},
   "outputs": [
    {
     "name": "stdout",
     "output_type": "stream",
     "text": [
      "[[101  92  83  74  65  56  47  38  29  20]\n",
      " [110 101  92  83  74  65  56  47  38  58]\n",
      " [119 110 101  92  83  74  65  56  47  38]\n",
      " [128 119 110 101  92  83  74  65  56  47]\n",
      " [137 128 119 110 101  92  83  74  65  56]\n",
      " [146 137 128 119 110 101  92  83  74  65]\n",
      " [155 146 137 128 119 110 101  92  83  74]\n",
      " [164 155 146 137 128 119 110 101  92  83]\n",
      " [173 164 155 146 137 128 119 110 101  92]\n",
      " [182 173 164 155 146 137 128 119 110 101]]\n",
      "\n",
      "column 1: median = 60.5 range = 81\n",
      "column 2: median = 69.5 range = 72\n",
      "column 3: median = 78.5 range = 81\n",
      "column 4: median = 87.5 range = 81\n",
      "column 5: median = 96.5 range = 81\n",
      "column 6: median = 105.5 range = 81\n",
      "column 7: median = 114.5 range = 81\n",
      "column 8: median = 123.5 range = 81\n",
      "column 9: median = 132.5 range = 81\n",
      "column 10: median = 141.5 range = 81\n",
      "\n",
      "row 1: median = 141.5 range = 81\n",
      "row 2: median = 132.5 range = 81\n",
      "row 3: median = 123.5 range = 81\n",
      "row 4: median = 114.5 range = 81\n",
      "row 5: median = 105.5 range = 81\n",
      "row 6: median = 96.5 range = 81\n",
      "row 7: median = 87.5 range = 81\n",
      "row 8: median = 78.5 range = 81\n",
      "row 9: median = 69.5 range = 81\n",
      "row 10: median = 61.5 range = 81\n"
     ]
    }
   ],
   "source": [
    "a = np.arange(1, 101).reshape(10, 10)\n",
    "b = np.arange(100, 0, -1).reshape(10, 10).transpose()\n",
    "c = a + b\n",
    "c[1,-1] *= 2\n",
    "print(c)\n",
    "print()\n",
    "for column in range(10):\n",
    "    matrix_column = c[column, :]\n",
    "    print(f'column {column + 1}: median = {np.median(matrix_column)} range = {matrix_column.max() - matrix_column.min()}')\n",
    "print()\n",
    "for row in range(10):\n",
    "    matrix_row = c[:, row]\n",
    "    print(f'row {row + 1}: median = {np.median(matrix_row)} range = {matrix_row.max() - matrix_row.min()}')\n"
   ]
  },
  {
   "attachments": {},
   "cell_type": "markdown",
   "metadata": {},
   "source": [
    "\n",
    "3. Wczytaj z klawiatury parametry liczbowe $a$, $b$, $c$ (zakładamy, że $a \\neq 0$) i rozwiąż równ.\n",
    "kwadratowe $ax^2 + bx + c = 0$, korzystając z Numpy. Możliwe są przypadki: brak rozwiązań, 1\n",
    "pierwiastek podwójny, 2 pierwiastki. Jeśli ta ostatnia sytuacja ma miejsce (pierwiastki: $x1$, $x2$;\n",
    "$x1 < x2$), to dodatkowo utwórz wykres tego równania w Matplotlib, gdzie zakres na osi $X$\n",
    "obejmuje przedział o szer. 3 razy większej niż $x2 - x1$. Wyświetl wykres oraz zapisz go w\n",
    "różnych formatach (np. `png`, `pdf`, `eps`, `svg`).\n"
   ]
  },
  {
   "cell_type": "code",
   "execution_count": 98,
   "metadata": {},
   "outputs": [
    {
     "name": "stdout",
     "output_type": "stream",
     "text": [
      "x1 = -0.79\n",
      "x2 = -0.21\n"
     ]
    },
    {
     "data": {
      "image/png": "[encoded data removed]",
      "text/plain": [
       "<Figure size 640x480 with 1 Axes>"
      ]
     },
     "metadata": {},
     "output_type": "display_data"
    }
   ],
   "source": [
    "import matplotlib.pyplot as plt\n",
    "a, b, c = input('Input a b c: ').split()\n",
    "a = int(a)\n",
    "b = int(b)\n",
    "c = int(c)\n",
    "x1, x2 = np.roots([a, b, c])\n",
    "print(f'x1 = {x1:.2f}')\n",
    "print(f'x2 = {x2:.2f}')\n",
    "if (x1 < x2):\n",
    "    x = np.arange(-(x2-x1)/2*3, (x2-x1)/2*3, 0.1)\n",
    "    y = a*x**2 + b*x + c\n",
    "    plt.plot(x, y)\n",
    "    plt.savefig('equation_plot.png', bbox_inches='tight')\n",
    "    plt.savefig('equation_plot.pdf', bbox_inches='tight')\n"
   ]
  },
  {
   "attachments": {},
   "cell_type": "markdown",
   "metadata": {},
   "source": [
    "\n",
    "## $Pi^ja_ny druk_arz$\n",
    "\n",
    "### Zadanie:\n",
    "\n",
    "Ciocia zamówiła u drukarza banner z napisem `Najlepsze życzenia imieninowe!` dla swojego\n",
    "siostrzeńca. Ale drukarz popija i nie zawsze litery układają mu się w rzędzie. Dokładniej,\n",
    "przyjmij że każda litera tego napisu ma prawdopodobieństwo 0,1, że będzie wydrukowana o\n",
    "wiersz wyżej niż powinna, prawdopodobieństwo 0,2, że będzie wydrukowana o wiersz niżej, i\n",
    "wreszcie pozostałe prawdopodobieństwo (czyli 0,7), że zostanie wydrukowana w\n",
    "poprawnym wierszu. Zademonstruj to. Wynik może wyglądać np. tak:\n",
    "```\n",
    "                          o\n",
    "Na lepsze życze ia i ienin we!\n",
    "  j            n    m\n",
    "```"
   ]
  },
  {
   "cell_type": "code",
   "execution_count": 99,
   "metadata": {},
   "outputs": [
    {
     "name": "stdout",
     "output_type": "stream",
     "text": [
      "      s       e     m  n      \n",
      "  jlep ze życz n a i i  inowe!\n",
      "Na              i     e       \n"
     ]
    }
   ],
   "source": [
    "banner = \"Najlepsze życzenia imieninowe!\"\n",
    "banner_lines = ['', '', '']\n",
    "for letter in banner:\n",
    "    choice = np.random.choice(3, 1, p=[0.1, 0.7, 0.2])[0]\n",
    "    for index in range(len(banner_lines)):\n",
    "        banner_lines[index] += letter if choice == index else ' '\n",
    "for banner_line in banner_lines:\n",
    "    print(banner_line)"
   ]
  },
  {
   "attachments": {},
   "cell_type": "markdown",
   "metadata": {},
   "source": [
    "## Imiona  \n",
    "\n",
    "### Zadanie:\n",
    "\n",
    "Przedstaw i zapisz do pliku PNG wykres (matplotlib, metoda `plt.plot`) liczby dzieci urodzonych w poszczególnych latach 2000–2017, na podstawie danych z pliku `popular-names-in-poland.csv`.\n",
    "\n",
    "Wykres powinien wyglądać jak poniżej.\n",
    "\n",
    "![chart](chart.png)\n",
    "\n",
    "> Wskazówka (wczytanie danych): `np.recfromcsv(\"myfile.csv\", delimiter = ...)`"
   ]
  },
  {
   "cell_type": "code",
   "execution_count": 100,
   "metadata": {},
   "outputs": [
    {
     "name": "stderr",
     "output_type": "stream",
     "text": [
      "c:\\Users\\domin\\AppData\\Local\\Programs\\Python\\Python311\\Lib\\site-packages\\numpy\\lib\\npyio.py:2538: VisibleDeprecationWarning: Reading unicode strings without specifying the encoding argument is deprecated. Set the encoding, use None for the system default.\n",
      "  output = genfromtxt(fname, **kwargs)\n"
     ]
    },
    {
     "data": {
      "image/png": "[encoded data removed]",
      "text/plain": [
       "<Figure size 1000x600 with 1 Axes>"
      ]
     },
     "metadata": {},
     "output_type": "display_data"
    }
   ],
   "source": [
    "data = np.recfromcsv('popular-names-in-poland.csv', delimiter=';')\n",
    "years = np.unique(data['rok'])\n",
    "people = []\n",
    "for index, year in enumerate(years):\n",
    "    people.append(data[data.rok == year]['liczba'].sum())\n",
    "xi = range(years[0], years[len(years) - 1])\n",
    "plt.figure(figsize=(10, 6))\n",
    "plt.plot(years, people, marker='o')\n",
    "plt.xticks(years)\n",
    "plt.savefig('people_plot.png', bbox_inches='tight')\n"
   ]
  }
 ],
 "metadata": {
  "kernelspec": {
   "display_name": "Python 3 (ipykernel)",
   "language": "python",
   "name": "python3"
  },
  "language_info": {
   "codemirror_mode": {
    "name": "ipython",
    "version": 3
   },
   "file_extension": ".py",
   "mimetype": "text/x-python",
   "name": "python",
   "nbconvert_exporter": "python",
   "pygments_lexer": "ipython3",
   "version": "3.11.3"
  },
  "toc": {
   "base_numbering": 1,
   "nav_menu": {},
   "number_sections": true,
   "sideBar": true,
   "skip_h1_title": false,
   "title_cell": "Table of Contents",
   "title_sidebar": "Contents",
   "toc_cell": false,
   "toc_position": {},
   "toc_section_display": true,
   "toc_window_display": false
  }
 },
 "nbformat": 4,
 "nbformat_minor": 4
}
